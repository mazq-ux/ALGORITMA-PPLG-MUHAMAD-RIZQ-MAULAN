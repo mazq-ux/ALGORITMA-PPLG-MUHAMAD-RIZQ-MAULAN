{
  "nbformat": 4,
  "nbformat_minor": 0,
  "metadata": {
    "colab": {
      "provenance": [],
      "authorship_tag": "ABX9TyNEQJib2lQ1DHuUOK023hR1",
      "include_colab_link": true
    },
    "kernelspec": {
      "name": "python3",
      "display_name": "Python 3"
    },
    "language_info": {
      "name": "python"
    }
  },
  "cells": [
    {
      "cell_type": "markdown",
      "metadata": {
        "id": "view-in-github",
        "colab_type": "text"
      },
      "source": [
        "<a href=\"https://colab.research.google.com/github/mazq-ux/ALGORITMA-PPLG-MUHAMAD-RIZQ-MAULAN/blob/main/variabel_dan_tipe_data.ipynb\" target=\"_parent\"><img src=\"https://colab.research.google.com/assets/colab-badge.svg\" alt=\"Open In Colab\"/></a>"
      ]
    },
    {
      "cell_type": "markdown",
      "source": [
        "# variabel pyhthon\n",
        "\n",
        "value-variabel\n",
        " Vl     VB\n",
        "\n",
        " CONTOH\n",
        "\n",
        "1 a = 5\n",
        "\n",
        "  (a=vl dan 5=vb)\n",
        "\n",
        "2 pajero=xv\n",
        "  \n",
        "  (pajero=vb dan xv=vl\n",
        "\n",
        "1.   Inter = untuk mendeklarasikan angka (o-9)\n",
        "2.   Sring = untuk mendeklarasikan huruf (A-z dan karakter @?!_<)\n",
        "3.   Float = untuk mendeklarasijan desimal (1,5 1,4 dan selanjutnya)\n",
        "\n"
      ],
      "metadata": {
        "id": "i11PJO9hbOcd"
      }
    },
    {
      "cell_type": "markdown",
      "source": [
        "# INTER"
      ],
      "metadata": {
        "id": "8cDjPlRgY1qM"
      }
    },
    {
      "cell_type": "code",
      "source": [
        "#contoh 1\n",
        "a=7\n",
        "b=5\n",
        "c=a+b\n",
        "print (c)"
      ],
      "metadata": {
        "colab": {
          "base_uri": "https://localhost:8080/"
        },
        "id": "AOAPYbfJdugm",
        "outputId": "98e16098-6443-487b-e4d8-51083c38013c"
      },
      "execution_count": null,
      "outputs": [
        {
          "output_type": "stream",
          "name": "stdout",
          "text": [
            "12\n"
          ]
        }
      ]
    },
    {
      "cell_type": "markdown",
      "source": [
        "# SRING"
      ],
      "metadata": {
        "id": "akW3iwf1Y5oe"
      }
    },
    {
      "cell_type": "code",
      "source": [
        "#contoh 2\n",
        "a='7'\n",
        "b='5'\n",
        "c=a+b\n",
        "print (c)"
      ],
      "metadata": {
        "colab": {
          "base_uri": "https://localhost:8080/"
        },
        "id": "e3zuY5VheL75",
        "outputId": "4a65ddb8-b3cf-484b-9c09-71be36213e12"
      },
      "execution_count": null,
      "outputs": [
        {
          "output_type": "stream",
          "name": "stdout",
          "text": [
            "75\n"
          ]
        }
      ]
    },
    {
      "cell_type": "markdown",
      "source": [
        "# FLOAT"
      ],
      "metadata": {
        "id": "X0pFELGDY-mp"
      }
    },
    {
      "cell_type": "code",
      "source": [
        "#contoh 3\n",
        "a=1.5\n",
        "b=1.3\n",
        "c=a+b\n",
        "print (c)"
      ],
      "metadata": {
        "colab": {
          "base_uri": "https://localhost:8080/"
        },
        "id": "3U-0ooxzeude",
        "outputId": "7a68213c-be2a-40f7-e8e0-e7505eaf6249"
      },
      "execution_count": null,
      "outputs": [
        {
          "output_type": "stream",
          "name": "stdout",
          "text": [
            "2.8\n"
          ]
        }
      ]
    },
    {
      "cell_type": "markdown",
      "source": [
        "# OPERATOR ARITMATIKA\n",
        "\n",
        "\n",
        "1. penjumlahan = +\n",
        "\n",
        "2. pengurangan = -\n",
        "\n",
        "3. perkalian = *\n",
        "\n",
        "4. pembagian = /\n",
        "\n",
        "5. perpangkatan A\n",
        "\n",
        "6. modulus(persen)%"
      ],
      "metadata": {
        "id": "WZv78XvPzFvq"
      }
    },
    {
      "cell_type": "markdown",
      "source": [
        "#Pertambahan"
      ],
      "metadata": {
        "id": "xoJVZgdegjID"
      }
    },
    {
      "cell_type": "code",
      "source": [
        "#rumus\n",
        "a=...\n",
        "b=...\n",
        "c=a+b\n",
        "print (c)"
      ],
      "metadata": {
        "id": "mPsD8ZKsgotf"
      },
      "execution_count": null,
      "outputs": []
    },
    {
      "cell_type": "code",
      "source": [
        "#contoh pertambahan\n",
        "a=7\n",
        "b=5\n",
        "c=a+b\n",
        "print (c)"
      ],
      "metadata": {
        "colab": {
          "base_uri": "https://localhost:8080/"
        },
        "id": "8eV0GVla9fwm",
        "outputId": "f8f913ce-cbe5-4c46-ec19-ef0b24b30e18"
      },
      "execution_count": null,
      "outputs": [
        {
          "output_type": "stream",
          "name": "stdout",
          "text": [
            "12\n"
          ]
        }
      ]
    },
    {
      "cell_type": "markdown",
      "source": [
        "#pengurangan"
      ],
      "metadata": {
        "id": "HEldi7jCgzwr"
      }
    },
    {
      "cell_type": "code",
      "source": [
        "#rumus\n",
        "a=...\n",
        "b=...\n",
        "c=a-b\n",
        "print (c)"
      ],
      "metadata": {
        "id": "rxostUslhAaI"
      },
      "execution_count": null,
      "outputs": []
    },
    {
      "cell_type": "code",
      "source": [
        "#contoh pengurangan\n",
        "a=7\n",
        "b=5\n",
        "c=a-b\n",
        "print (c)"
      ],
      "metadata": {
        "colab": {
          "base_uri": "https://localhost:8080/"
        },
        "id": "5Pyrlewx-T7u",
        "outputId": "d8f6b0bc-b40d-46b4-a9c0-5e34b3a32204"
      },
      "execution_count": null,
      "outputs": [
        {
          "output_type": "stream",
          "name": "stdout",
          "text": [
            "2\n"
          ]
        }
      ]
    },
    {
      "cell_type": "markdown",
      "source": [
        "#perkalian"
      ],
      "metadata": {
        "id": "Rgz_sACGjCoP"
      }
    },
    {
      "cell_type": "code",
      "source": [
        "#rumus\n",
        "a=...\n",
        "b=...\n",
        "c=a*b\n",
        "print (c)"
      ],
      "metadata": {
        "id": "2-MSAp0YjGGC"
      },
      "execution_count": null,
      "outputs": []
    },
    {
      "cell_type": "code",
      "source": [
        "#contoh perkalian\n",
        "a=7\n",
        "b=5\n",
        "c=a*b\n",
        "print (c)"
      ],
      "metadata": {
        "colab": {
          "base_uri": "https://localhost:8080/"
        },
        "id": "wEe5i90Y-n1b",
        "outputId": "964e8407-7648-4940-d239-5e2d0b2f321b"
      },
      "execution_count": null,
      "outputs": [
        {
          "output_type": "stream",
          "name": "stdout",
          "text": [
            "35\n"
          ]
        }
      ]
    },
    {
      "cell_type": "markdown",
      "source": [
        "#pembagian"
      ],
      "metadata": {
        "id": "84dODDcOjPwe"
      }
    },
    {
      "cell_type": "code",
      "source": [
        "#rumus\n",
        "a=...\n",
        "b=...\n",
        "c=a/b\n",
        "print (c)"
      ],
      "metadata": {
        "id": "p9wTxaHfjTiy"
      },
      "execution_count": null,
      "outputs": []
    },
    {
      "cell_type": "code",
      "source": [
        "#contoh pembagian\n",
        "a=7\n",
        "b=5\n",
        "c=a/b\n",
        "print (c)"
      ],
      "metadata": {
        "colab": {
          "base_uri": "https://localhost:8080/"
        },
        "id": "4RMAEqiR-4Mq",
        "outputId": "17875b08-344a-43af-aca6-28de0aa6fc4f"
      },
      "execution_count": null,
      "outputs": [
        {
          "output_type": "stream",
          "name": "stdout",
          "text": [
            "1.4\n"
          ]
        }
      ]
    },
    {
      "cell_type": "markdown",
      "source": [
        "#perpangkatan"
      ],
      "metadata": {
        "id": "u2rbaK_OjjF4"
      }
    },
    {
      "cell_type": "code",
      "source": [
        "#rumus\n",
        "a=...\n",
        "b=...\n",
        "c= (a ** b)\n",
        "print (c)"
      ],
      "metadata": {
        "id": "F9DNx0u-jl5x"
      },
      "execution_count": null,
      "outputs": []
    },
    {
      "cell_type": "code",
      "source": [
        "#contoh perpangkatan\n",
        "a=7\n",
        "b=5\n",
        "c= (a ** b)\n",
        "print (c)"
      ],
      "metadata": {
        "colab": {
          "base_uri": "https://localhost:8080/"
        },
        "id": "JNfV8gCQ_dYw",
        "outputId": "524d2f23-0ce6-4cae-8b1b-b6d7cae0a086"
      },
      "execution_count": null,
      "outputs": [
        {
          "output_type": "stream",
          "name": "stdout",
          "text": [
            "16807\n"
          ]
        }
      ]
    },
    {
      "cell_type": "markdown",
      "source": [
        "#modulas (persen)"
      ],
      "metadata": {
        "id": "7D9HIou9j0Wt"
      }
    },
    {
      "cell_type": "code",
      "source": [
        "#rumus\n",
        "a=...\n",
        "b=...\n",
        "c=a%b\n",
        "print (c)"
      ],
      "metadata": {
        "id": "fi0Ud1jLj86M"
      },
      "execution_count": null,
      "outputs": []
    },
    {
      "cell_type": "code",
      "source": [
        "#contoh modulas (persen)\n",
        "a=7\n",
        "b=5\n",
        "c=a%b\n",
        "print (c)"
      ],
      "metadata": {
        "colab": {
          "base_uri": "https://localhost:8080/"
        },
        "id": "OeRGum5C_9LS",
        "outputId": "633e81f3-4393-4e7a-d6b8-b25cf54c9823"
      },
      "execution_count": null,
      "outputs": [
        {
          "output_type": "stream",
          "name": "stdout",
          "text": [
            "2\n"
          ]
        }
      ]
    },
    {
      "cell_type": "markdown",
      "source": [
        "# operator perbandingan\n",
        "\n",
        "1. lebih besar: > (a>70:71-100)\n",
        "\n",
        "2. lebih kecil:< (a<70:69-0)\n",
        "\n",
        "3. lebih besar =: >= : (a>=70:70-100)\n",
        "\n",
        "4. lebih kecil = : <= (a<=70:70-0)\n",
        "\n",
        "5. tidak sama dengan!: jelek!=ganteng: true dan false (ingkaran)\n",
        "\n",
        "6. sama dengan sama == ganteng ==ganteng: true"
      ],
      "metadata": {
        "id": "_Oxu1SiJARwo"
      }
    },
    {
      "cell_type": "markdown",
      "source": [
        "# perbandingan lebih besar"
      ],
      "metadata": {
        "id": "OUBi5wyQYd6h"
      }
    },
    {
      "cell_type": "markdown",
      "source": [],
      "metadata": {
        "id": "yukKWKXbi_pl"
      }
    },
    {
      "cell_type": "code",
      "source": [
        "#rumus\n",
        "a=...\n",
        "b=...\n",
        "c=a>b\n",
        "print (c)"
      ],
      "metadata": {
        "id": "xWfV0hIVetw-"
      },
      "execution_count": null,
      "outputs": []
    },
    {
      "cell_type": "code",
      "source": [
        " #contoh 1 lebih besar yang benar\n",
        "a=7\n",
        "B=5\n",
        "c=a>b\n",
        "print (c)"
      ],
      "metadata": {
        "colab": {
          "base_uri": "https://localhost:8080/"
        },
        "id": "8fOQs5BCHzjZ",
        "outputId": "d3f3bb35-190f-43fb-9cd4-85d60eee6b21"
      },
      "execution_count": null,
      "outputs": [
        {
          "output_type": "stream",
          "name": "stdout",
          "text": [
            "False\n"
          ]
        }
      ]
    },
    {
      "cell_type": "code",
      "source": [
        "#contoh 2 lebih besar yang salah\n",
        "a=5\n",
        "b=7\n",
        "c=a>b\n",
        "print (c)"
      ],
      "metadata": {
        "colab": {
          "base_uri": "https://localhost:8080/"
        },
        "id": "xNI9G8x_Ptuq",
        "outputId": "e110077e-8f6e-4cc1-dc27-62726a03eb89"
      },
      "execution_count": null,
      "outputs": [
        {
          "output_type": "stream",
          "name": "stdout",
          "text": [
            "False\n"
          ]
        }
      ]
    },
    {
      "cell_type": "markdown",
      "source": [
        "# perbandingan lebih kecil"
      ],
      "metadata": {
        "id": "higN-KpLYpQg"
      }
    },
    {
      "cell_type": "code",
      "source": [
        "#rumus\n",
        "a=...\n",
        "b=...\n",
        "c=a<b\n",
        "print (c)"
      ],
      "metadata": {
        "id": "NPrTK6_seyUm"
      },
      "execution_count": null,
      "outputs": []
    },
    {
      "cell_type": "code",
      "source": [
        "#contoh 1 lebih kecil yang benar\n",
        "a=5\n",
        "b=7\n",
        "c=a<b\n",
        "print (c)"
      ],
      "metadata": {
        "colab": {
          "base_uri": "https://localhost:8080/"
        },
        "id": "kZoIJplzYtYX",
        "outputId": "7ee24f89-4f44-4e5c-eb56-256f3b550e61"
      },
      "execution_count": null,
      "outputs": [
        {
          "output_type": "stream",
          "name": "stdout",
          "text": [
            "True\n"
          ]
        }
      ]
    },
    {
      "cell_type": "code",
      "source": [
        "#contoh 2 lebih kecil yang salah\n",
        "a=7\n",
        "b=5\n",
        "c=a<b\n",
        "print (c)"
      ],
      "metadata": {
        "colab": {
          "base_uri": "https://localhost:8080/"
        },
        "id": "JV6SRS8pZZkj",
        "outputId": "0e750c7b-1ab4-4c3b-c15c-53bbcd9683a7"
      },
      "execution_count": null,
      "outputs": [
        {
          "output_type": "stream",
          "name": "stdout",
          "text": [
            "False\n"
          ]
        }
      ]
    },
    {
      "cell_type": "markdown",
      "source": [
        "# perbandingan lebih besar sama dengan"
      ],
      "metadata": {
        "id": "KkcENPBKZ1nU"
      }
    },
    {
      "cell_type": "code",
      "source": [
        "#rumus\n",
        "a=...\n",
        "b=...\n",
        "c=a>=b\n",
        "print (c"
      ],
      "metadata": {
        "id": "FbV-bafZeNoX"
      },
      "execution_count": null,
      "outputs": []
    },
    {
      "cell_type": "code",
      "source": [
        "#contoh yang benar\n",
        "a=7\n",
        "b=5\n",
        "c=a>=b\n",
        "print (c)"
      ],
      "metadata": {
        "id": "hMxKzaK9aGLf",
        "colab": {
          "base_uri": "https://localhost:8080/"
        },
        "outputId": "7c39f748-4928-4287-a527-bb215a609613"
      },
      "execution_count": null,
      "outputs": [
        {
          "output_type": "stream",
          "name": "stdout",
          "text": [
            "True\n"
          ]
        }
      ]
    },
    {
      "cell_type": "code",
      "source": [
        "#contoh yang salah\n",
        "a=5\n",
        "b=7\n",
        "c=a>=b\n",
        "print (c)"
      ],
      "metadata": {
        "id": "0j_W_q4aa1D4",
        "colab": {
          "base_uri": "https://localhost:8080/"
        },
        "outputId": "226bed95-4d9d-4605-c192-d31ade162282"
      },
      "execution_count": null,
      "outputs": [
        {
          "output_type": "stream",
          "name": "stdout",
          "text": [
            "False\n"
          ]
        }
      ]
    },
    {
      "cell_type": "markdown",
      "source": [
        "# perbandingan  lebih kecil sama dengan"
      ],
      "metadata": {
        "id": "3wGuxr39bHJg"
      }
    },
    {
      "cell_type": "code",
      "source": [
        "#rumus\n",
        "a=...\n",
        "b=...\n",
        "c=a<=b\n",
        "print (c)"
      ],
      "metadata": {
        "id": "BR1CbA_2d31G"
      },
      "execution_count": null,
      "outputs": []
    },
    {
      "cell_type": "code",
      "source": [
        "#contoh yang benar\n",
        "a=5\n",
        "b=7\n",
        "c=a<=b\n",
        "print (c)"
      ],
      "metadata": {
        "id": "kQBmITDYbRJN",
        "colab": {
          "base_uri": "https://localhost:8080/"
        },
        "outputId": "1ed31dd1-de0d-4764-8c4e-88ef2afd9f68"
      },
      "execution_count": null,
      "outputs": [
        {
          "output_type": "stream",
          "name": "stdout",
          "text": [
            "True\n"
          ]
        }
      ]
    },
    {
      "cell_type": "code",
      "source": [
        "#contoh yang salah\n",
        "a=7\n",
        "b=5\n",
        "c=a<=b\n",
        "print (c)"
      ],
      "metadata": {
        "id": "w46pZbJAbY7I",
        "colab": {
          "base_uri": "https://localhost:8080/"
        },
        "outputId": "7ca3f223-b328-431e-d606-338e02f990e6"
      },
      "execution_count": null,
      "outputs": [
        {
          "output_type": "stream",
          "name": "stdout",
          "text": [
            "False\n"
          ]
        }
      ]
    },
    {
      "cell_type": "markdown",
      "source": [
        "#sama dengan"
      ],
      "metadata": {
        "id": "vopoL3PDbfwP"
      }
    },
    {
      "cell_type": "code",
      "source": [
        "#rumus\n",
        "a=...\n",
        "b=...\n",
        "c=a==b\n",
        "print (c)"
      ],
      "metadata": {
        "id": "iyaYiqsrdpWp"
      },
      "execution_count": null,
      "outputs": []
    },
    {
      "cell_type": "code",
      "source": [
        "#contoh yang benar\n",
        "a=\"baik\"\n",
        "b=\"baik\"\n",
        "c=a==b\n",
        "print (c)"
      ],
      "metadata": {
        "colab": {
          "base_uri": "https://localhost:8080/"
        },
        "id": "PgXFEVh3cMmN",
        "outputId": "95731d48-e5ac-4f9b-f166-3fccf627fb7b"
      },
      "execution_count": null,
      "outputs": [
        {
          "output_type": "stream",
          "name": "stdout",
          "text": [
            "True\n"
          ]
        }
      ]
    },
    {
      "cell_type": "code",
      "source": [
        "#contoh yang salah\n",
        "a=\"miskin\"\n",
        "b=\"kaya\"\n",
        "c=a==b\n",
        "print (c)"
      ],
      "metadata": {
        "colab": {
          "base_uri": "https://localhost:8080/"
        },
        "id": "xDGQ90aMcbNj",
        "outputId": "d467c6dd-5bea-4067-80bb-3de5f865cbdb"
      },
      "execution_count": null,
      "outputs": [
        {
          "output_type": "stream",
          "name": "stdout",
          "text": [
            "False\n"
          ]
        }
      ]
    },
    {
      "cell_type": "markdown",
      "source": [
        "#Tidak sama dengan"
      ],
      "metadata": {
        "id": "MAnVRZEOcsmO"
      }
    },
    {
      "cell_type": "code",
      "source": [
        "#rumus\n",
        "a=...\n",
        "b=...\n",
        "c=a!=b\n",
        "print (c)"
      ],
      "metadata": {
        "id": "tYFOzxW0c0Zc"
      },
      "execution_count": null,
      "outputs": []
    },
    {
      "cell_type": "code",
      "source": [
        "#contoh yang benar\n",
        "a=\"baik\"\n",
        "b=\"jahat\"\n",
        "c=a!= b\n",
        "print (c)"
      ],
      "metadata": {
        "colab": {
          "base_uri": "https://localhost:8080/"
        },
        "id": "tQt2H-9MdOsN",
        "outputId": "befbb18e-2e57-4a28-e556-44bd4518b6a8"
      },
      "execution_count": null,
      "outputs": [
        {
          "output_type": "stream",
          "name": "stdout",
          "text": [
            "True\n"
          ]
        }
      ]
    },
    {
      "cell_type": "code",
      "source": [
        "#contoh yang salah\n",
        "a=\"kaya\"\n",
        "b=\"kaya\"\n",
        "c=a!=b\n",
        "print (c)"
      ],
      "metadata": {
        "colab": {
          "base_uri": "https://localhost:8080/"
        },
        "id": "INSbooOwddIU",
        "outputId": "ee8b9922-1fc5-4ad8-cbf1-eabf965d071f"
      },
      "execution_count": null,
      "outputs": [
        {
          "output_type": "stream",
          "name": "stdout",
          "text": [
            "False\n"
          ]
        }
      ]
    }
  ]
}