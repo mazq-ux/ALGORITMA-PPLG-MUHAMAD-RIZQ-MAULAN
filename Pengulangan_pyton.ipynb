{
  "nbformat": 4,
  "nbformat_minor": 0,
  "metadata": {
    "colab": {
      "provenance": [],
      "authorship_tag": "ABX9TyPQJGraKd9w8dPR61jYB7DE",
      "include_colab_link": true
    },
    "kernelspec": {
      "name": "python3",
      "display_name": "Python 3"
    },
    "language_info": {
      "name": "python"
    }
  },
  "cells": [
    {
      "cell_type": "markdown",
      "metadata": {
        "id": "view-in-github",
        "colab_type": "text"
      },
      "source": [
        "<a href=\"https://colab.research.google.com/github/mazq-ux/ALGORITMA-PPLG-MUHAMAD-RIZQ-MAULAN/blob/main/Pengulangan_pyton.ipynb\" target=\"_parent\"><img src=\"https://colab.research.google.com/assets/colab-badge.svg\" alt=\"Open In Colab\"/></a>"
      ]
    },
    {
      "cell_type": "markdown",
      "source": [
        "#pengulangan pada pyton\n",
        "\n",
        "Perulangan dalam bahasa pemrograman berfungsi menyuruh komputer melakukan sesuatu secara berulang-ulang. Terdapat dua jenis perulangan dalam bahasa pemrograman python, yaitu perulangan dengan for dan while."
      ],
      "metadata": {
        "id": "QiL05hGHsaVk"
      }
    },
    {
      "cell_type": "markdown",
      "source": [
        "# For\n",
        "\n",
        "\n",
        "Perulangan for adalah suatu bentuk proses pengulangan kegiatan pada suatu statement atau lebih secara berulang ulang-ulang selama yang dijadikan acuan tersebut terpenuhi dengan baik."
      ],
      "metadata": {
        "id": "yu60hz_Ts-7L"
      }
    },
    {
      "cell_type": "markdown",
      "source": [
        "# While\n",
        "\n",
        "\n",
        "while digunakan untuk mengulang statement sebanyak satu kali terlebih dahulu, kemudian akan mengecek statement didalam while apakah bernilai benar, jika bernilai benar maka akan diulang kembali."
      ],
      "metadata": {
        "id": "buVJmStotRfB"
      }
    },
    {
      "cell_type": "markdown",
      "source": [
        " # Perbedaan while  dan for\n",
        "\n",
        "\n",
        "Perbedaan antara perulangan for dan perulangan while adalah for memungkinkan inisialisasi, pengecekan kondisi, dan pernyataan iterasi di bagian atas perulangan, sedangkan while hanya memungkinkan inisialisasi dan pengecekan kondisi di bagian atas perulangan"
      ],
      "metadata": {
        "id": "KE9jtk6duDhP"
      }
    },
    {
      "cell_type": "markdown",
      "source": [
        " # contoh while dan for"
      ],
      "metadata": {
        "id": "me4RfxV4uOnl"
      }
    },
    {
      "cell_type": "code",
      "source": [
        "# while\n",
        "i=1\n",
        "while i <= 6:\n",
        "  print(i)\n",
        "  i+=1"
      ],
      "metadata": {
        "id": "WzLCOB2huTLA",
        "outputId": "3c618520-0bda-4c2e-d64f-e6e5facd34c1",
        "colab": {
          "base_uri": "https://localhost:8080/"
        }
      },
      "execution_count": null,
      "outputs": [
        {
          "output_type": "stream",
          "name": "stdout",
          "text": [
            "1\n",
            "2\n",
            "3\n",
            "4\n",
            "5\n",
            "6\n"
          ]
        }
      ]
    },
    {
      "cell_type": "code",
      "source": [],
      "metadata": {
        "id": "AYIZHd3kuufc"
      },
      "execution_count": null,
      "outputs": []
    }
  ]
}