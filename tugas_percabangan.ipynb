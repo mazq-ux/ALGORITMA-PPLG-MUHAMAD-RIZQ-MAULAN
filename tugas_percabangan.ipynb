{
  "nbformat": 4,
  "nbformat_minor": 0,
  "metadata": {
    "colab": {
      "provenance": [],
      "authorship_tag": "ABX9TyMjS026GaP+ipdM7sB8TPhd",
      "include_colab_link": true
    },
    "kernelspec": {
      "name": "python3",
      "display_name": "Python 3"
    },
    "language_info": {
      "name": "python"
    }
  },
  "cells": [
    {
      "cell_type": "markdown",
      "metadata": {
        "id": "view-in-github",
        "colab_type": "text"
      },
      "source": [
        "<a href=\"https://colab.research.google.com/github/mazq-ux/ALGORITMA-PPLG-MUHAMAD-RIZQ-MAULAN/blob/main/tugas_percabangan.ipynb\" target=\"_parent\"><img src=\"https://colab.research.google.com/assets/colab-badge.svg\" alt=\"Open In Colab\"/></a>"
      ]
    },
    {
      "cell_type": "markdown",
      "source": [
        "# tugas percabangan"
      ],
      "metadata": {
        "id": "13PA-JPc7ovZ"
      }
    },
    {
      "cell_type": "code",
      "execution_count": null,
      "metadata": {
        "colab": {
          "base_uri": "https://localhost:8080/"
        },
        "id": "DOi7H3fbgWI1",
        "outputId": "2e55dcdb-2b69-497c-aa3c-73491ccb6639"
      },
      "outputs": [
        {
          "output_type": "stream",
          "name": "stdout",
          "text": [
            "masukan harga:700\n",
            "tidak ada diskon'\n"
          ]
        }
      ],
      "source": [
        " # penentuan diskon berdasarkan jumlah pembelian\n",
        "\n",
        "jumlah_pembelian = int(input('masukan harga:'))\n",
        "\n",
        "if jumlah_pembelian <= 100000:\n",
        "  print(\"tidak ada diskon'\")\n",
        "elif jumlah_pembelian  <= 5000000:\n",
        "  print(\"diskon 10%\")\n",
        "else :\n",
        "  print(\"diskon 20%\")"
      ]
    },
    {
      "cell_type": "code",
      "source": [
        "# progam untuk mengelompokkan umur\n",
        "\n",
        "umur = int(input('masukan umur: '))\n",
        "\n",
        "if umur <= 12:\n",
        "  print(\"anak anak\")\n",
        "elif  umur <= 17:\n",
        "  print(\"remaja\")\n",
        "elif  umur <= 64:\n",
        "  print(\"dewasa\")\n",
        "else :\n",
        "  print(\"lansia\")"
      ],
      "metadata": {
        "colab": {
          "base_uri": "https://localhost:8080/"
        },
        "id": "I9xJPs6npvq9",
        "outputId": "e2814d7d-91fc-4ef6-cd08-702a0215544d"
      },
      "execution_count": 69,
      "outputs": [
        {
          "output_type": "stream",
          "name": "stdout",
          "text": [
            "masukan umur: 13\n",
            "remaja\n"
          ]
        }
      ]
    },
    {
      "cell_type": "code",
      "source": [
        "# nilai siswa\n",
        "\n",
        "nilai = int(input('masukan nilai'))\n",
        "\n",
        "if nilai >= 90:\n",
        "  print(\"sangat baik\")\n",
        "elif nilai >= 70:\n",
        "  print(\"bagus\")\n",
        "else :\n",
        "  print(\"kurang bagus\")"
      ],
      "metadata": {
        "colab": {
          "base_uri": "https://localhost:8080/"
        },
        "id": "LpLdY27qvK2G",
        "outputId": "ffea4603-a730-4369-ede4-ae94fcd7f896"
      },
      "execution_count": null,
      "outputs": [
        {
          "output_type": "stream",
          "name": "stdout",
          "text": [
            "masukan nilai97\n",
            "sangat baik\n"
          ]
        }
      ]
    },
    {
      "cell_type": "code",
      "source": [
        "# tahun\n",
        "a = int(input(\"masukan tahun: \"))\n",
        "if a % 4 == 0:\n",
        " if a % 100 == 0:\n",
        "  if a % 400 == 0:\n",
        "    print(\"tahun karbit\")\n",
        "else :\n",
        "  print(\"bukan tahun karbit\")"
      ],
      "metadata": {
        "colab": {
          "base_uri": "https://localhost:8080/"
        },
        "id": "9tRggyV-wO7z",
        "outputId": "fb71c0f6-85bb-41ef-d2a7-9656de98538c"
      },
      "execution_count": null,
      "outputs": [
        {
          "output_type": "stream",
          "name": "stdout",
          "text": [
            "masukan tahun: 1945\n",
            "bukan tahun karbit\n"
          ]
        }
      ]
    },
    {
      "cell_type": "code",
      "source": [
        "# kalkulator\n",
        "a = int(input(\"Masukkan angka pertama: \"))\n",
        "b = int(input(\"Masukkan angka kedua: \"))\n",
        "c = input(\"Masukkan operasi: \")\n",
        "if c == \"+\":\n",
        "  print(a+b)\n",
        "elif c == \"-\":\n",
        "  print(a-b)\n",
        "elif c == \"*\":\n",
        "  print(a*b)\n",
        "elif c == \"/\":\n",
        "  print(a/b)\n",
        "else:\n",
        "  print(\"operasi tidak valid\")"
      ],
      "metadata": {
        "id": "7ys3cvYjxxex",
        "colab": {
          "base_uri": "https://localhost:8080/"
        },
        "outputId": "d7d5ea8c-a255-432b-a6dc-c9c4c5f461a3"
      },
      "execution_count": null,
      "outputs": [
        {
          "output_type": "stream",
          "name": "stdout",
          "text": [
            "Masukkan angka pertama: 139\n",
            "Masukkan angka kedua: 150\n",
            "Masukkan operasi: /\n",
            "0.9266666666666666\n"
          ]
        }
      ]
    }
  ]
}