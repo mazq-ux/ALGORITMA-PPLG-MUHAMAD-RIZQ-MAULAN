{
  "nbformat": 4,
  "nbformat_minor": 0,
  "metadata": {
    "colab": {
      "provenance": [],
      "authorship_tag": "ABX9TyNHE2wHIeedNAkz9qGC2+ct",
      "include_colab_link": true
    },
    "kernelspec": {
      "name": "python3",
      "display_name": "Python 3"
    },
    "language_info": {
      "name": "python"
    }
  },
  "cells": [
    {
      "cell_type": "markdown",
      "metadata": {
        "id": "view-in-github",
        "colab_type": "text"
      },
      "source": [
        "<a href=\"https://colab.research.google.com/github/mazq-ux/ALGORITMA-PPLG-MUHAMAD-RIZQ-MAULAN/blob/main/Tugas_pyton.ipynb\" target=\"_parent\"><img src=\"https://colab.research.google.com/assets/colab-badge.svg\" alt=\"Open In Colab\"/></a>"
      ]
    },
    {
      "cell_type": "code",
      "execution_count": null,
      "metadata": {
        "colab": {
          "base_uri": "https://localhost:8080/"
        },
        "id": "AHQcnfhjeZgB",
        "outputId": "bc21fae1-042e-48ed-bb1a-ba7872785975"
      },
      "outputs": [
        {
          "output_type": "stream",
          "name": "stdout",
          "text": [
            "Hello, World\n"
          ]
        }
      ],
      "source": [
        "print(\"Hello, World\")"
      ]
    },
    {
      "cell_type": "code",
      "source": [
        "if 5 > 2:\n",
        "  print(\"Five is greater than two\")"
      ],
      "metadata": {
        "colab": {
          "base_uri": "https://localhost:8080/"
        },
        "id": "0ntA_1SIKKYs",
        "outputId": "b5e43141-9be8-4820-fb2b-86c846c2f806"
      },
      "execution_count": null,
      "outputs": [
        {
          "output_type": "stream",
          "name": "stdout",
          "text": [
            "Five is greater than two\n"
          ]
        }
      ]
    },
    {
      "cell_type": "code",
      "source": [
        "if 5 > 2:\n",
        "  print(\"Five is greater than two\")\n",
        "if 5 > 2:\n",
        "  print(\"five is greater than two\")"
      ],
      "metadata": {
        "colab": {
          "base_uri": "https://localhost:8080/"
        },
        "id": "KBJJC8ZEiSwZ",
        "outputId": "7def62d4-5094-4aeb-d180-f27d33a94244"
      },
      "execution_count": null,
      "outputs": [
        {
          "output_type": "stream",
          "name": "stdout",
          "text": [
            "Five is greater than two\n",
            "five is greater than two\n"
          ]
        }
      ]
    },
    {
      "cell_type": "code",
      "source": [
        "if 5 > 2:\n",
        "  print(\"Five is greater than two\")\n",
        "if 5 > 2:\n",
        " print(\"five is greater than two\")"
      ],
      "metadata": {
        "colab": {
          "base_uri": "https://localhost:8080/"
        },
        "id": "TuiGMOPhLbxW",
        "outputId": "105353c7-3d64-4197-8e61-4fd888c11a59"
      },
      "execution_count": null,
      "outputs": [
        {
          "output_type": "stream",
          "name": "stdout",
          "text": [
            "Five is greater than two\n",
            "five is greater than two\n"
          ]
        }
      ]
    },
    {
      "cell_type": "markdown",
      "source": [
        "materi baru"
      ],
      "metadata": {
        "id": "ScfCXYv0m4Nk"
      }
    },
    {
      "cell_type": "code",
      "source": [
        "x = 5\n",
        "y = \"john\"\n",
        "print(x)\n",
        "print(y)"
      ],
      "metadata": {
        "colab": {
          "base_uri": "https://localhost:8080/"
        },
        "id": "FmQCQ4FBm62x",
        "outputId": "8a86a68b-df5a-43b7-abc4-0a48da43acb9"
      },
      "execution_count": null,
      "outputs": [
        {
          "output_type": "stream",
          "name": "stdout",
          "text": [
            "5\n",
            "john\n"
          ]
        }
      ]
    },
    {
      "cell_type": "markdown",
      "source": [
        "materi baru"
      ],
      "metadata": {
        "id": "zzBsCd7bnfH_"
      }
    },
    {
      "cell_type": "code",
      "source": [
        "a = str(3)\n",
        "x = float(100)\n",
        "\n",
        "print (x)\n",
        "print (a)"
      ],
      "metadata": {
        "colab": {
          "base_uri": "https://localhost:8080/"
        },
        "id": "lHcOJ29UnhQn",
        "outputId": "1827bfd3-4442-47a6-ac73-50193460ed86"
      },
      "execution_count": null,
      "outputs": [
        {
          "output_type": "stream",
          "name": "stdout",
          "text": [
            "100.0\n",
            "3\n"
          ]
        }
      ]
    },
    {
      "cell_type": "markdown",
      "source": [
        "lanjutan"
      ],
      "metadata": {
        "id": "JRdE8NyIp_A2"
      }
    },
    {
      "cell_type": "code",
      "source": [
        "x = \"john\"\n",
        "# is the same as\n",
        "y = 'john'\n",
        "\n",
        "print(x)\n",
        "print(y)"
      ],
      "metadata": {
        "colab": {
          "base_uri": "https://localhost:8080/"
        },
        "id": "XRlA9RVfqByl",
        "outputId": "cbe7670b-0744-43b4-9770-a16f5b55d088"
      },
      "execution_count": null,
      "outputs": [
        {
          "output_type": "stream",
          "name": "stdout",
          "text": [
            "john\n",
            "john\n"
          ]
        }
      ]
    },
    {
      "cell_type": "code",
      "source": [
        "#progam studi kasus kasus kecocokan berteman\n",
        "\n",
        "a = \"rizq\"+\n",
        "b = \"kafhi\"\n",
        "print(\"berdasarkan hasil survei :\",a,\"dan\",b ,\"adalah teman yang cocok\")"
      ],
      "metadata": {
        "colab": {
          "base_uri": "https://localhost:8080/"
        },
        "id": "nAWTsjYpq5OB",
        "outputId": "008af1b3-acd7-42fb-f844-08009ac5c4ee"
      },
      "execution_count": null,
      "outputs": [
        {
          "output_type": "stream",
          "name": "stdout",
          "text": [
            "berdasarkan hasil survei : rizq dan kafhi adalah teman yang cocok\n"
          ]
        }
      ]
    },
    {
      "cell_type": "markdown",
      "source": [
        "rumus"
      ],
      "metadata": {
        "id": "3rTYclGQfqQi"
      }
    },
    {
      "cell_type": "code",
      "source": [
        "#studi kaus aplikasi heroscop\n",
        "a = input (\"masukkan pasangan 1:\")\n",
        "b = input (\"masukkan pasangan 2:\")\n",
        "print (\"hasil survei antara pasangan\", a,\"dan pasangan\", b,\"adalah pasangan yang cocok\" )"
      ],
      "metadata": {
        "id": "acCzJ5HxshVb"
      },
      "execution_count": null,
      "outputs": []
    },
    {
      "cell_type": "markdown",
      "source": [
        "jawaban"
      ],
      "metadata": {
        "id": "u4qgrqGVft0-"
      }
    },
    {
      "cell_type": "code",
      "source": [
        "#studi kaus aplikasi heroscop\n",
        "a = input (\"masukkan pasangan 1:\")\n",
        "b = input (\"masukkan pasangan 2:\")\n",
        "print (\"hasil survei antara pasangan\", a,\"dan pasangan\", b,\"adalah pasangan yang cocok\" )"
      ],
      "metadata": {
        "colab": {
          "base_uri": "https://localhost:8080/"
        },
        "id": "YNHBRSAYefas",
        "outputId": "695c40f8-75b8-4c73-deb7-33a19db80276"
      },
      "execution_count": null,
      "outputs": [
        {
          "output_type": "stream",
          "name": "stdout",
          "text": [
            "masukkan pasangan 1:iman\n",
            "masukkan pasangan 2:regan\n",
            "hasil survei antara pasangan iman dan pasangan regan adalah pasangan yang cocok\n"
          ]
        }
      ]
    },
    {
      "cell_type": "markdown",
      "source": [
        "rumus"
      ],
      "metadata": {
        "id": "td3uf5ZefzDx"
      }
    },
    {
      "cell_type": "code",
      "source": [
        "\n",
        "#studi nilai vtuber peringkat\n",
        "a = \"1\"\n",
        "b = \"2\"\n",
        "c = input (\"nama vtuber:\")\n",
        "d = input (\"nama vtuber:\")\n",
        "print (\"hasil surver pringkat\", c,\"adalah vtuber\", b, \"dan vtuber\", d,\"adalah vtuber\", a)\n"
      ],
      "metadata": {
        "id": "jgY_pnTk09OY"
      },
      "execution_count": null,
      "outputs": []
    },
    {
      "cell_type": "markdown",
      "source": [
        "jawaban"
      ],
      "metadata": {
        "id": "bm_aw6Qbf1vd"
      }
    },
    {
      "cell_type": "code",
      "source": [
        "#studi nilai vtuber peringkat\n",
        "a = \"1\"\n",
        "b = \"2\"\n",
        "c = input (\"nama vtuber:\")\n",
        "d = input (\"nama vtuber:\")\n",
        "print (\"hasil surver pringkat\", c,\"adalah vtuber\", b, \"dan vtuber\", d,\"adalah vtuber\", a)\n"
      ],
      "metadata": {
        "colab": {
          "base_uri": "https://localhost:8080/"
        },
        "id": "npVUXQd1eHsA",
        "outputId": "8561db38-03ac-48b5-cf36-e1b377cb01e0"
      },
      "execution_count": null,
      "outputs": [
        {
          "output_type": "stream",
          "name": "stdout",
          "text": [
            "nama vtuber:olie\n",
            "nama vtuber:risu\n",
            "hasil surver pringkat olie adalah vtuber 2 dan vtuber risu adalah vtuber 1\n"
          ]
        }
      ]
    },
    {
      "cell_type": "markdown",
      "source": [
        "#bonus"
      ],
      "metadata": {
        "id": "h4nxAcSgfKLu"
      }
    },
    {
      "cell_type": "code",
      "source": [
        "# studi kasus pembagian uang bansos\n",
        "\n",
        "a = 50.0000\n",
        "b = \"kelas masyarakat menengah bahwa\"\n",
        "c = \"kelas masyarakat miskin\"\n",
        "d = int(a) / 2\n",
        "print (b, \"mendapatkan uang sebanyak\" , d,\"uang, dan si\", c,\"mendapatkan uang sebanyak\", d, )"
      ],
      "metadata": {
        "colab": {
          "base_uri": "https://localhost:8080/"
        },
        "id": "XXq6yZm3fP_e",
        "outputId": "c50fcc49-2639-4481-ab71-d1cd723c3c2e"
      },
      "execution_count": null,
      "outputs": [
        {
          "output_type": "stream",
          "name": "stdout",
          "text": [
            "kelas masyarakat menengah bahwa mendapatkan uang sebanyak 25.0 uang, dan si kelas masyarakat miskin mendapatkan uang sebanyak 25.0\n"
          ]
        }
      ]
    }
  ]
}