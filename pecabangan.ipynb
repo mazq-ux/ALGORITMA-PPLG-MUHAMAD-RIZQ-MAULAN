{
  "nbformat": 4,
  "nbformat_minor": 0,
  "metadata": {
    "colab": {
      "provenance": [],
      "authorship_tag": "ABX9TyMji/aB0BRacD9BDLI/EFDc",
      "include_colab_link": true
    },
    "kernelspec": {
      "name": "python3",
      "display_name": "Python 3"
    },
    "language_info": {
      "name": "python"
    }
  },
  "cells": [
    {
      "cell_type": "markdown",
      "metadata": {
        "id": "view-in-github",
        "colab_type": "text"
      },
      "source": [
        "<a href=\"https://colab.research.google.com/github/mazq-ux/ALGORITMA-PPLG-MUHAMAD-RIZQ-MAULAN/blob/main/pecabangan.ipynb\" target=\"_parent\"><img src=\"https://colab.research.google.com/assets/colab-badge.svg\" alt=\"Open In Colab\"/></a>"
      ]
    },
    {
      "cell_type": "markdown",
      "source": [
        "# percabangan\n",
        "PERCABANGAN\n",
        "adalah salah satu bentuk kontrol program. Percabangan berguna untuk\n",
        "mengatur alur jalannya program sesuai dengan suatu kondisi yang terpenuhi.\n",
        "Dalam Python, terdapat tiga keywords untuk melakukan percabangan, yaitu"
      ],
      "metadata": {
        "id": "K7Yi1_geuiot"
      }
    },
    {
      "cell_type": "markdown",
      "source": [
        "1. IF\n",
        "\n",
        "If merupakan penanda awal suatu percabangan. Suatu program akan menjalankan alur tertentu jika memenuhi kondisi yang ditentukan pada blok if.\n",
        "\n",
        "2. ELIF\n",
        "\n",
        "Elif atau kependekan dari else if adalah suatu percabangan setelah if. Sama seperti if, elif akan menjalankan kode program di bawahnya jika kondisi dalam blok if atau elif sebelumnya tidak terpenuhi (bernilai false) dan kondisi pada blok elif tersebut terpenuhi.\n",
        "\n",
        "3. ELSE\n",
        "\n",
        "Else merupakan kondisi penutup dari sebuah percabangan. Dapat dikatakan bahwa else adalah solusi percabangan terakhir, sehingga else tidak"
      ],
      "metadata": {
        "id": "6LZK35SsnGlN"
      }
    },
    {
      "cell_type": "markdown",
      "source": [
        "contoh percabangan dalam menyelesaikan,menyatakan,atau memutuskan suatu kondisi :"
      ],
      "metadata": {
        "id": "yP1P8ZgMoja6"
      }
    },
    {
      "cell_type": "markdown",
      "source": [
        "\n",
        "Operator yang Digunakan Kondisi Percabangan\n",
        "\n",
        ".\n",
        "Equals: Sama dengan (=) untuk menyatakan nilai variabel yang sama, contoh a = b.\n",
        "\n",
        ".\n",
        "Not Equals: Tidak sama dengan (!=) untuk menyatakan nilai variabel berbeda, contoh a != b.\n",
        "\n",
        ".Less than: Kurang dari (<) untuk menyatakan variabel satu lebih kecil dari variabel lainnya, contoh a < b\n",
        "\n",
        ".\n",
        "Greater than: Lebih dari (>) untuk menyatakan variabel satu lebih besar dari variabel lainnya, contoh a > b.\n",
        "\n",
        ".\n",
        "Greater than or equal to: Lebih dari sama dengan (>=) untuk menyatakan kondisi variabel lebih dari sama dengan variabel lainnya, contoh a >= b.\n",
        "\n",
        ".Less than or equal to: Kurang dari sama dengan (<=) untuk menyatakan kondisi variabel kurang dari sama dengan variabel lainnya, contoh a <= b.\n",
        "\n",
        "\n",
        "contoh percabangan dalam menyelesaikan,menyatakan,atau memutuskan suatu kondisi :"
      ],
      "metadata": {
        "id": "CvjiPiIEo52-"
      }
    },
    {
      "cell_type": "code",
      "source": [
        "# kondisi 1\n",
        "\n",
        "if 5 > 10: # ❌\n",
        "  print('Nilai 5 lebih dari 10')\n",
        "\n",
        "if 10 > 5: # ✅\n",
        "  print('Nilai 10 lebih dari 5')"
      ],
      "metadata": {
        "colab": {
          "base_uri": "https://localhost:8080/"
        },
        "id": "KW1vHn0yybyN",
        "outputId": "4b746033-9023-4c92-9afc-16d8bfa89b3d"
      },
      "execution_count": null,
      "outputs": [
        {
          "output_type": "stream",
          "name": "stdout",
          "text": [
            "Nilai 10 lebih dari 5\n"
          ]
        }
      ]
    },
    {
      "cell_type": "code",
      "source": [
        "nilai = 50\n",
        "\n",
        "print('Nilai anda adalah:', nilai, '\\n')\n",
        "\n",
        "if nilai >= 70:\n",
        "  print('Selamat, anda lulus!')\n",
        "else:\n",
        "  print('Maaf, anda tidak lulus.')# kondisi 2"
      ],
      "metadata": {
        "colab": {
          "base_uri": "https://localhost:8080/"
        },
        "id": "JsAYuMKkyrOh",
        "outputId": "fbe9d0e0-d378-410f-e83e-43d56c09c715"
      },
      "execution_count": null,
      "outputs": [
        {
          "output_type": "stream",
          "name": "stdout",
          "text": [
            "Nilai anda adalah: 50 \n",
            "\n",
            "Maaf, anda tidak lulus.\n"
          ]
        }
      ]
    },
    {
      "cell_type": "code",
      "source": [
        "# kondisi 3\n",
        "\n",
        "buah = input(\"buah:\")\n",
        "\n",
        "if buah == \"mangga\":\n",
        "  print(\"sangat suka\")\n",
        "elif buah == \"nanas\":\n",
        "  print(\"lumayan\")\n",
        "else:\n",
        "  print(\"tidak suka\")"
      ],
      "metadata": {
        "colab": {
          "base_uri": "https://localhost:8080/"
        },
        "id": "Y4qi1NVZAZ8s",
        "outputId": "dfe3f595-763a-455d-e0fc-21092d915e2d"
      },
      "execution_count": null,
      "outputs": [
        {
          "output_type": "stream",
          "name": "stdout",
          "text": [
            "buah:nanas\n",
            "lumayan\n"
          ]
        }
      ]
    },
    {
      "cell_type": "code",
      "source": [
        "# kondisi 4\n",
        "\n",
        "youtuber = input(\"peringkat:\")\n",
        "\n",
        "if youtuber == \"1\":\n",
        "  print(\"windah\")\n",
        "elif youtuber == \"2\":\n",
        "  print(\"obit\")\n",
        "elif youtuber == \"3\":\n",
        "  print(\"risu\")\n",
        "else:\n",
        "  Print(\"tidak ada\")"
      ],
      "metadata": {
        "colab": {
          "base_uri": "https://localhost:8080/"
        },
        "id": "skAgLrfqBHzO",
        "outputId": "3c6195fa-b20b-429c-9c7e-46dd0d9ad33c"
      },
      "execution_count": null,
      "outputs": [
        {
          "output_type": "stream",
          "name": "stdout",
          "text": [
            "peringkat:1\n",
            "windah\n"
          ]
        }
      ]
    },
    {
      "cell_type": "code",
      "source": [
        "# kondisi 5\n",
        "\n",
        "nilai = int(input('Masukkan nilai: '))\n",
        "\n",
        "if nilai >= 90:\n",
        "  print('Predikat A')\n",
        "elif nilai >= 80:\n",
        "  print('Predikat B')\n",
        "elif nilai >= 60:\n",
        "  print('Predikat C')\n",
        "elif nilai >= 40:\n",
        "  print('Predikat D')\n",
        "else:\n",
        "  print('Predikat E')"
      ],
      "metadata": {
        "colab": {
          "base_uri": "https://localhost:8080/"
        },
        "id": "3CjrvS7ey2QO",
        "outputId": "914e0b0d-0e26-4832-eda2-fae184aa9f01"
      },
      "execution_count": null,
      "outputs": [
        {
          "output_type": "stream",
          "name": "stdout",
          "text": [
            "Masukkan nilai: 6\n",
            "Predikat E\n"
          ]
        }
      ]
    },
    {
      "cell_type": "code",
      "source": [
        "# kondisi 6\n",
        "\n",
        "siapa = input(\"dia adalah:\")\n",
        "\n",
        "\n",
        "if siapa == \"budi\":\n",
        "  print(\"sahabat\")\n",
        "elif siapa == \"jamal\":\n",
        "  print(\"teman\")\n",
        "elif siapa == \"reymon\":\n",
        "  print(\"teman\") elif siapa == \"lemon\":\n",
        "  print(\"teman\")\n",
        "elif siapa == \"cocoteh\":\n",
        "  print(\"teman\") else:\n",
        " print(\"tidak valid\")"
      ],
      "metadata": {
        "colab": {
          "base_uri": "https://localhost:8080/"
        },
        "id": "qd8uPDuKDyxn",
        "outputId": "93847c0b-06df-45b3-e98c-cfe781ffb1e0"
      },
      "execution_count": null,
      "outputs": [
        {
          "output_type": "stream",
          "name": "stdout",
          "text": [
            "dia adalah:budi\n",
            "sahabat\n"
          ]
        }
      ]
    },
    {
      "cell_type": "code",
      "source": [],
      "metadata": {
        "id": "cNGpfQ8iGvCR"
      },
      "execution_count": null,
      "outputs": []
    }
  ]
}